{
  "cells": [
    {
      "cell_type": "code",
      "source": [
        "import urllib.request\n",
        "import json\n",
        "import os\n",
        "import ssl\n",
        "\n",
        "def allowSelfSignedHttps(allowed):\n",
        "    # bypass the server certificate verification on client side\n",
        "    if allowed and not os.environ.get('PYTHONHTTPSVERIFY', '') and getattr(ssl, '_create_unverified_context', None):\n",
        "        ssl._create_default_https_context = ssl._create_unverified_context\n",
        "\n",
        "allowSelfSignedHttps(True) # this line is needed if you use self-signed certificate in your scoring service.\n",
        "\n",
        "# Request data goes here\n",
        "# The example below assumes JSON formatting which may be updated\n",
        "# depending on the format your endpoint expects.\n",
        "# More information can be found here:\n",
        "# https://docs.microsoft.com/azure/machine-learning/how-to-deploy-advanced-entry-script\n",
        "data =  {\n",
        "  \"Inputs\": {\n",
        "    \"input1\": [\n",
        "      {\n",
        "        \"Column1\": 0,\n",
        "        \"precipitation\": 0.0,\n",
        "        \"temp_max\": 12.8,\n",
        "        \"temp_min\": 0.0,\n",
        "        \"wind\": 4.7,\n",
        "        \"season_Fall\": 0,\n",
        "        \"season_Spring\": 0,\n",
        "        \"season_Summer\": 0,\n",
        "        \"season_Winter\": 1,\n",
        "        \"temp_range\": 7.800000000000002,\n",
        "        \"weather_label\": 0\n",
        "      },\n",
        "      {\n",
        "        \"Column1\": 1,\n",
        "        \"precipitation\": 10.9,\n",
        "        \"temp_max\": 10.6,\n",
        "        \"temp_min\": 2.8,\n",
        "        \"wind\": 4.5,\n",
        "        \"season_Fall\": 0,\n",
        "        \"season_Spring\": 0,\n",
        "        \"season_Summer\": 0,\n",
        "        \"season_Winter\": 1,\n",
        "        \"temp_range\": 7.8,\n",
        "        \"weather_label\": 2\n",
        "      },\n",
        "      {\n",
        "        \"Column1\": 2,\n",
        "        \"precipitation\": 0.8,\n",
        "        \"temp_max\": 11.7,\n",
        "        \"temp_min\": 7.2,\n",
        "        \"wind\": 2.3,\n",
        "        \"season_Fall\": 0,\n",
        "        \"season_Spring\": 0,\n",
        "        \"season_Summer\": 0,\n",
        "        \"season_Winter\": 1,\n",
        "        \"temp_range\": 4.499999999999999,\n",
        "        \"weather_label\": 2\n",
        "      }\n",
        "    ]\n",
        "  },\n",
        "  \"GlobalParameters\": {}\n",
        "}\n",
        "\n",
        "body = str.encode(json.dumps(data))\n",
        "\n",
        "url = 'http://30349e41-c20d-4056-8f81-471179582f92.eastus.azurecontainer.io/score'\n",
        "# Replace this with the primary/secondary key, AMLToken, or Microsoft Entra ID token for the endpoint\n",
        "api_key = 'tzKkZbyxgWe8cJZ0vBw8Z5RW10csExII'\n",
        "if not api_key:\n",
        "    raise Exception(\"A key should be provided to invoke the endpoint\")\n",
        "\n",
        "\n",
        "headers = {'Content-Type':'application/json', 'Authorization':('Bearer '+ api_key)}\n",
        "\n",
        "req = urllib.request.Request(url, body, headers)\n",
        "\n",
        "try:\n",
        "    response = urllib.request.urlopen(req)\n",
        "\n",
        "    result = response.read()\n",
        "    print(result)\n",
        "except urllib.error.HTTPError as error:\n",
        "    print(\"The request failed with status code: \" + str(error.code))\n",
        "\n",
        "    # Print the headers - they include the requert ID and the timestamp, which are useful for debugging the failure\n",
        "    print(error.info())\n",
        "    print(error.read().decode(\"utf8\", 'ignore'))"
      ],
      "outputs": [
        {
          "output_type": "stream",
          "name": "stdout",
          "text": "b'{\"Results\": {\"WebServiceOutput0\": [{\"WeatherPrediction\": 4.0, \"Scored Probabilities_0\": 0.11766309663929568, \"Scored Probabilities_1\": 0.02575054651914811, \"Scored Probabilities_2\": 0.3424351824500736, \"Scored Probabilities_3\": 0.11283590500344895, \"Scored Probabilities_4\": 0.4013152693880337}, {\"WeatherPrediction\": 2.0, \"Scored Probabilities_0\": 0.06467086834085524, \"Scored Probabilities_1\": 0.013596999435852512, \"Scored Probabilities_2\": 0.7366200816991729, \"Scored Probabilities_3\": 0.08797062621529947, \"Scored Probabilities_4\": 0.09714142430881981}, {\"WeatherPrediction\": 2.0, \"Scored Probabilities_0\": 0.11344412315765026, \"Scored Probabilities_1\": 0.033707639201310986, \"Scored Probabilities_2\": 0.6716700307897988, \"Scored Probabilities_3\": 0.052702494981460166, \"Scored Probabilities_4\": 0.12847571186977988}]}}'\n"
        }
      ],
      "execution_count": 1,
      "metadata": {
        "gather": {
          "logged": 1716921659320
        }
      }
    },
    {
      "cell_type": "code",
      "source": [],
      "outputs": [],
      "execution_count": null,
      "metadata": {
        "jupyter": {
          "source_hidden": false,
          "outputs_hidden": false
        },
        "nteract": {
          "transient": {
            "deleting": false
          }
        }
      }
    }
  ],
  "metadata": {
    "kernelspec": {
      "name": "python310-sdkv2",
      "language": "python",
      "display_name": "Python 3.10 - SDK v2"
    },
    "language_info": {
      "name": "python",
      "version": "3.10.11",
      "mimetype": "text/x-python",
      "codemirror_mode": {
        "name": "ipython",
        "version": 3
      },
      "pygments_lexer": "ipython3",
      "nbconvert_exporter": "python",
      "file_extension": ".py"
    },
    "microsoft": {
      "ms_spell_check": {
        "ms_spell_check_language": "en"
      }
    },
    "kernel_info": {
      "name": "python310-sdkv2"
    },
    "nteract": {
      "version": "nteract-front-end@1.0.0"
    }
  },
  "nbformat": 4,
  "nbformat_minor": 2
}